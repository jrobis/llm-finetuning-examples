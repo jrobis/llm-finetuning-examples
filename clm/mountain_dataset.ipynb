{
 "cells": [
  {
   "cell_type": "code",
   "execution_count": null,
   "metadata": {},
   "outputs": [],
   "source": [
    "import requests\n",
    "import json"
   ]
  },
  {
   "cell_type": "code",
   "execution_count": null,
   "metadata": {},
   "outputs": [],
   "source": [
    "a = requests.post('http://global.ipfs.opentensor.ai/api/v0/object/get?arg=QmSdDg6V9dgpdAFtActs75Qfc36qJtm9y8a7yrQ1rHm7ZX').json()\n",
    "print(a)"
   ]
  },
  {
   "cell_type": "code",
   "execution_count": null,
   "metadata": {},
   "outputs": [],
   "source": [
    "if len(a['Links'])>0:\n",
    "    tmp_str = a['Links'][0]['Hash']\n",
    "    print(tmp_str)"
   ]
  },
  {
   "cell_type": "code",
   "execution_count": null,
   "metadata": {},
   "outputs": [],
   "source": [
    "b = requests.post('http://global.ipfs.opentensor.ai/api/v0/object/get?arg=' + tmp_str).json()\n",
    "print(b)"
   ]
  },
  {
   "cell_type": "code",
   "execution_count": null,
   "metadata": {},
   "outputs": [],
   "source": [
    "if len(b['Links'])>0:\n",
    "    tmp_str = b['Links'][0]['Hash']\n",
    "    print(tmp_str)"
   ]
  },
  {
   "cell_type": "code",
   "execution_count": null,
   "metadata": {},
   "outputs": [],
   "source": [
    "c = requests.post('http://global.ipfs.opentensor.ai/api/v0/object/get?arg=' + tmp_str).json()\n",
    "print(c)"
   ]
  },
  {
   "cell_type": "code",
   "execution_count": null,
   "metadata": {},
   "outputs": [],
   "source": [
    "if len(c['Links'])>0:\n",
    "    tmp_str = c['Links'][0]['Hash']\n",
    "    print(tmp_str)"
   ]
  },
  {
   "cell_type": "code",
   "execution_count": null,
   "metadata": {},
   "outputs": [],
   "source": [
    "# tmp_str = 'QmYyKFc6vnq8e9NdmCk8suAAsEPRE'\n",
    "# e = requests.post('http://global.ipfs.opentensor.ai/api/v0/object/get?arg=' + tmp_str).json()\n",
    "# print(e)"
   ]
  },
  {
   "cell_type": "code",
   "execution_count": null,
   "metadata": {},
   "outputs": [],
   "source": [
    "d = requests.post('http://global.ipfs.opentensor.ai/api/v0/object/get?arg=' + tmp_str).json()\n",
    "print(d)"
   ]
  },
  {
   "cell_type": "code",
   "execution_count": null,
   "metadata": {},
   "outputs": [],
   "source": [
    "start_str = '{\"Name\": '\n",
    "end_str = '}, {'\n",
    "if len(d['Links'])>0:\n",
    "    tmp_str = d['Links'][0]['Hash']\n",
    "    print(tmp_str)\n",
    "else:\n",
    "    start_idx = d['Data'].find(start_str)\n",
    "    end_idx = d['Data'].rfind(end_str)\n",
    "    if start_idx >=0 and end_idx >=0 and end_idx>start_idx:\n",
    "        print(f\"first occurance: {start_idx}\")\n",
    "        print(f\"last occurance: {end_idx}\")\n",
    "    else:\n",
    "        print('hi')\n",
    "        "
   ]
  },
  {
   "cell_type": "code",
   "execution_count": null,
   "metadata": {},
   "outputs": [],
   "source": [
    "print(d['Data'][start_idx:end_idx+1])"
   ]
  },
  {
   "cell_type": "code",
   "execution_count": null,
   "metadata": {},
   "outputs": [],
   "source": [
    "json.loads()"
   ]
  },
  {
   "cell_type": "code",
   "execution_count": null,
   "metadata": {},
   "outputs": [],
   "source": [
    "k = json.loads('[' + d['Data'][start_idx:end_idx+1] + ']')"
   ]
  },
  {
   "cell_type": "code",
   "execution_count": null,
   "metadata": {},
   "outputs": [],
   "source": [
    "k[0:3]"
   ]
  },
  {
   "cell_type": "code",
   "execution_count": null,
   "metadata": {},
   "outputs": [],
   "source": [
    "k[-1]"
   ]
  },
  {
   "cell_type": "code",
   "execution_count": null,
   "metadata": {},
   "outputs": [],
   "source": [
    "tmp_str = 'QmXFmTPi1Jx1C7zkG6QTnH7rMjhM9xokruyezq2vuSQwCC'\n",
    "e = requests.post('http://global.ipfs.opentensor.ai/api/v0/object/get?arg=' + tmp_str).json()\n",
    "print(e)"
   ]
  },
  {
   "cell_type": "code",
   "execution_count": null,
   "metadata": {},
   "outputs": [],
   "source": [
    "_dict = e\n",
    "if len(e['Links'])>0:\n",
    "    tmp_str = e['Links'][0]['Hash']\n",
    "    print(tmp_str)\n",
    "else:\n",
    "    start_idx = e['Data'].find(start_str)\n",
    "    end_idx = e['Data'].rfind(end_str)\n",
    "    if start_idx >=0 and end_idx >=0 and end_idx>start_idx:\n",
    "        print(f\"first occurance: {start_idx}\")\n",
    "        print(f\"last occurance: {end_idx}\")\n",
    "        \n",
    "    else:\n",
    "        print(e['Data'][-60:])"
   ]
  },
  {
   "cell_type": "code",
   "execution_count": null,
   "metadata": {},
   "outputs": [],
   "source": [
    "_dict = e\n",
    "print(_dict)\n",
    "_dict['Text'] = e['Data']"
   ]
  },
  {
   "cell_type": "code",
   "execution_count": null,
   "metadata": {},
   "outputs": [],
   "source": [
    "_dict['Text']"
   ]
  },
  {
   "cell_type": "code",
   "execution_count": null,
   "metadata": {},
   "outputs": [],
   "source": [
    "''.join([i if ord(i) < 128 else '' for i in _dict['Text']])"
   ]
  },
  {
   "cell_type": "code",
   "execution_count": null,
   "metadata": {},
   "outputs": [],
   "source": [
    "import re\n",
    "re.sub(r'[^\\x00-\\x7F]+',' ', _dict['Text'])"
   ]
  },
  {
   "cell_type": "code",
   "execution_count": null,
   "metadata": {},
   "outputs": [],
   "source": [
    "import unicodedata, re, itertools, sys\n",
    "\n",
    "all_chars = (chr(i) for i in range(sys.maxunicode))\n",
    "categories = {'Cc'}\n",
    "control_chars = ''.join(c for c in all_chars if unicodedata.category(c) in categories)\n",
    "# or equivalently and much more efficiently\n",
    "control_chars = ''.join(map(chr, itertools.chain(range(0x00,0x20), range(0x7f,0xa0))))\n",
    "\n",
    "control_char_re = re.compile('[%s]' % re.escape(control_chars))\n",
    "\n",
    "def remove_control_chars(s):\n",
    "    return control_char_re.sub('', s)"
   ]
  },
  {
   "cell_type": "code",
   "execution_count": null,
   "metadata": {},
   "outputs": [],
   "source": [
    "remove_control_chars(_dict['Text'])"
   ]
  },
  {
   "cell_type": "code",
   "execution_count": null,
   "metadata": {},
   "outputs": [],
   "source": [
    "def write_data(_hash, _file):\n",
    "    _dict = requests.post('http://global.ipfs.opentensor.ai/api/v0/object/get?arg=' + _hash).json()\n",
    "    if len(_dict['Links'])>0:\n",
    "        for i in _dict['Links']:\n",
    "            # write_data(k['Hash'], _file)\n",
    "            write_data(i['Hash'], _file)\n",
    "            break\n",
    "    else:\n",
    "        start_idx = _dict['Data'].find(start_str)\n",
    "        end_idx = _dict['Data'].rfind(end_str)\n",
    "        if start_idx >=0 and end_idx >=0 and end_idx>start_idx:\n",
    "            print(f\"first occurance: {start_idx}\")\n",
    "            print(f\"last occurance: {end_idx}\")\n",
    "            k = json.loads('[' + _dict['Data'][start_idx:end_idx+1] + ']')\n",
    "            for i in k:\n",
    "                write_data(i['Hash'], _file)\n",
    "                break\n",
    "        else:\n",
    "            with open(_file, 'a') as f:\n",
    "                f.write(remove_control_chars(_dict['Data']))"
   ]
  },
  {
   "cell_type": "code",
   "execution_count": null,
   "metadata": {},
   "outputs": [],
   "source": [
    "# a = requests.post('http://global.ipfs.opentensor.ai/api/v0/object/get?arg=QmSdDg6V9dgpdAFtActs75Qfc36qJtm9y8a7yrQ1rHm7ZX').json()\n",
    "overall_hash = 'QmSdDg6V9dgpdAFtActs75Qfc36qJtm9y8a7yrQ1rHm7ZX'\n",
    "\n",
    "write_data(overall_hash, 'outfile3.txt')\n",
    "\n",
    "# .ͩ"
   ]
  },
  {
   "cell_type": "code",
   "execution_count": null,
   "metadata": {},
   "outputs": [],
   "source": []
  },
  {
   "cell_type": "code",
   "execution_count": null,
   "metadata": {},
   "outputs": [],
   "source": []
  },
  {
   "cell_type": "code",
   "execution_count": null,
   "metadata": {},
   "outputs": [],
   "source": [
    "[{hash: abc}]"
   ]
  },
  {
   "cell_type": "code",
   "execution_count": null,
   "metadata": {},
   "outputs": [],
   "source": []
  },
  {
   "cell_type": "code",
   "execution_count": null,
   "metadata": {},
   "outputs": [],
   "source": []
  },
  {
   "cell_type": "code",
   "execution_count": null,
   "metadata": {},
   "outputs": [],
   "source": []
  },
  {
   "cell_type": "code",
   "execution_count": null,
   "metadata": {},
   "outputs": [],
   "source": [
    "from unidecode import unidecode\n",
    "\n",
    "unidecode(unicode(_dict['Text'], encoding = \"utf-8\"))"
   ]
  },
  {
   "cell_type": "code",
   "execution_count": null,
   "metadata": {},
   "outputs": [],
   "source": [
    "#What does calling the subtensor do?"
   ]
  },
  {
   "cell_type": "code",
   "execution_count": null,
   "metadata": {},
   "outputs": [],
   "source": [
    "# if links=list\n",
    "    # else can I find a dict in data\n",
    "        # else: actually process cause it's the text\n",
    "\n",
    "# I could just start it at first occurance of {\"Name\":"
   ]
  },
  {
   "cell_type": "code",
   "execution_count": null,
   "metadata": {},
   "outputs": [],
   "source": []
  }
 ],
 "metadata": {
  "kernelspec": {
   "display_name": "bittensor",
   "language": "python",
   "name": "bittensor"
  },
  "orig_nbformat": 4
 },
 "nbformat": 4,
 "nbformat_minor": 2
}
